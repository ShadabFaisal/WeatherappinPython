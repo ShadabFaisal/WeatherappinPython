{
 "cells": [
  {
   "cell_type": "code",
   "execution_count": 4,
   "metadata": {},
   "outputs": [
    {
     "name": "stdin",
     "output_type": "stream",
     "text": [
      "City name:  Mysore\n"
     ]
    },
    {
     "name": "stdout",
     "output_type": "stream",
     "text": [
      "-------------------------------------------------------------\n",
      "Weather Stats for - \n",
      "-------------------------------------------------------------\n",
      "Current temperature is: 30.00 deg C\n",
      "Current weather desc  : scattered clouds\n",
      "Current Humidity      : 51 %\n",
      "Current wind speed    : 6.17 kmph\n"
     ]
    }
   ],
   "source": [
    "import requests\n",
    "from datetime import datetime\n",
    "#imported the modules required for sending the http request to openweathermap.org and to get current date and time.\n",
    "\n",
    "myapi_key = 'a3c01551ce33a1e6b164fb9aaf75dcb4'\n",
    "City_name = input(\"City name: \")\n",
    "#api address of openweathermap.org\n",
    "complete_api_link = \"https://api.openweathermap.org/data/2.5/weather?q=\"+City_name+\"&appid=\"+myapi_key\n",
    "#to send the http request to openweathermap.org.\n",
    "api_link = requests.get(complete_api_link)\n",
    "#store the api data in json format\n",
    "api_data = api_link.json()\n",
    "\n",
    "#create variables to store and display data\n",
    "#stored the temperature in degree Celsius\n",
    "temp_city = ((api_data['main']['temp']) - 273.15)\n",
    "weather_desc = api_data['weather'][0]['description']\n",
    "hmdt = api_data['main']['humidity']\n",
    "wind_spd = api_data['wind']['speed']\n",
    "date_time = datetime.now().strftime(\"%d %b %Y | %I:%M:%S %p\")\n",
    "\n",
    "print (\"-------------------------------------------------------------\")\n",
    "#print the city name in upper case letters and the present date and time\n",
    "print (\"Weather Stats for - \".format(City_name.upper(), date_time))\n",
    "print (\"-------------------------------------------------------------\")\n",
    "#print the weather statistics like temperature, weather decription, humidity and wind speed.\n",
    "print (\"Current temperature is: {:.2f} deg C\".format(temp_city))\n",
    "print (\"Current weather desc  :\",weather_desc)\n",
    "print (\"Current Humidity      :\",hmdt, '%')\n",
    "print (\"Current wind speed    :\",wind_spd ,'kmph')"
   ]
  },
  {
   "cell_type": "code",
   "execution_count": null,
   "metadata": {},
   "outputs": [],
   "source": []
  }
 ],
 "metadata": {
  "kernelspec": {
   "display_name": "Python 3",
   "language": "python",
   "name": "python3"
  },
  "language_info": {
   "codemirror_mode": {
    "name": "ipython",
    "version": 3
   },
   "file_extension": ".py",
   "mimetype": "text/x-python",
   "name": "python",
   "nbconvert_exporter": "python",
   "pygments_lexer": "ipython3",
   "version": "3.8.3"
  }
 },
 "nbformat": 4,
 "nbformat_minor": 4
}
